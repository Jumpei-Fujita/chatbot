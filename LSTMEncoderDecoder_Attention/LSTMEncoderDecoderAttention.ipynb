{
  "nbformat": 4,
  "nbformat_minor": 0,
  "metadata": {
    "colab": {
      "name": "LSTMEncoderDecoderAttention.ipynb",
      "provenance": [],
      "collapsed_sections": []
    },
    "kernelspec": {
      "name": "python3",
      "display_name": "Python 3"
    },
    "accelerator": "GPU"
  },
  "cells": [
    {
      "cell_type": "code",
      "metadata": {
        "colab": {
          "base_uri": "https://localhost:8080/"
        },
        "id": "Rn_ZdKYrLB7U",
        "outputId": "65e5c336-b4c4-4a0e-b587-ecd97709b97d"
      },
      "source": [
        "import torch\n",
        "import torch.nn as nn\n",
        "import pandas as pd\n",
        "!pip install pytorch-transformers\n",
        "!pip install seaborn\n",
        "import seaborn as sns\n",
        "train_dataset = pd.read_csv(\"/content/drive/MyDrive/new_exp/chatbot/dataset/train_d.csv\")\n",
        "validation_dataset = pd.read_csv(\"/content/drive/MyDrive/new_exp/chatbot/dataset/validation_d.csv\")\n",
        "test_dataset = pd.read_csv(\"/content/drive/MyDrive/new_exp/chatbot/dataset/test_d.csv\")"
      ],
      "execution_count": null,
      "outputs": [
        {
          "output_type": "stream",
          "text": [
            "Collecting pytorch-transformers\n",
            "\u001b[?25l  Downloading https://files.pythonhosted.org/packages/a3/b7/d3d18008a67e0b968d1ab93ad444fc05699403fa662f634b2f2c318a508b/pytorch_transformers-1.2.0-py3-none-any.whl (176kB)\n",
            "\r\u001b[K     |█▉                              | 10kB 21.0MB/s eta 0:00:01\r\u001b[K     |███▊                            | 20kB 27.6MB/s eta 0:00:01\r\u001b[K     |█████▋                          | 30kB 22.4MB/s eta 0:00:01\r\u001b[K     |███████▍                        | 40kB 17.5MB/s eta 0:00:01\r\u001b[K     |█████████▎                      | 51kB 15.9MB/s eta 0:00:01\r\u001b[K     |███████████▏                    | 61kB 14.8MB/s eta 0:00:01\r\u001b[K     |█████████████                   | 71kB 15.0MB/s eta 0:00:01\r\u001b[K     |██████████████▉                 | 81kB 15.9MB/s eta 0:00:01\r\u001b[K     |████████████████▊               | 92kB 15.5MB/s eta 0:00:01\r\u001b[K     |██████████████████▋             | 102kB 13.9MB/s eta 0:00:01\r\u001b[K     |████████████████████▍           | 112kB 13.9MB/s eta 0:00:01\r\u001b[K     |██████████████████████▎         | 122kB 13.9MB/s eta 0:00:01\r\u001b[K     |████████████████████████▏       | 133kB 13.9MB/s eta 0:00:01\r\u001b[K     |██████████████████████████      | 143kB 13.9MB/s eta 0:00:01\r\u001b[K     |███████████████████████████▉    | 153kB 13.9MB/s eta 0:00:01\r\u001b[K     |█████████████████████████████▊  | 163kB 13.9MB/s eta 0:00:01\r\u001b[K     |███████████████████████████████▋| 174kB 13.9MB/s eta 0:00:01\r\u001b[K     |████████████████████████████████| 184kB 13.9MB/s \n",
            "\u001b[?25hRequirement already satisfied: torch>=1.0.0 in /usr/local/lib/python3.7/dist-packages (from pytorch-transformers) (1.8.0+cu101)\n",
            "Requirement already satisfied: requests in /usr/local/lib/python3.7/dist-packages (from pytorch-transformers) (2.23.0)\n",
            "Requirement already satisfied: tqdm in /usr/local/lib/python3.7/dist-packages (from pytorch-transformers) (4.41.1)\n",
            "Collecting sentencepiece\n",
            "\u001b[?25l  Downloading https://files.pythonhosted.org/packages/f5/99/e0808cb947ba10f575839c43e8fafc9cc44e4a7a2c8f79c60db48220a577/sentencepiece-0.1.95-cp37-cp37m-manylinux2014_x86_64.whl (1.2MB)\n",
            "\u001b[K     |████████████████████████████████| 1.2MB 28.2MB/s \n",
            "\u001b[?25hCollecting boto3\n",
            "\u001b[?25l  Downloading https://files.pythonhosted.org/packages/c5/1d/5e3ba6d029181d5ec067bc9c3d2954b9d59e76bc1ef2a769698f196c0881/boto3-1.17.30-py2.py3-none-any.whl (131kB)\n",
            "\u001b[K     |████████████████████████████████| 133kB 50.4MB/s \n",
            "\u001b[?25hCollecting sacremoses\n",
            "\u001b[?25l  Downloading https://files.pythonhosted.org/packages/7d/34/09d19aff26edcc8eb2a01bed8e98f13a1537005d31e95233fd48216eed10/sacremoses-0.0.43.tar.gz (883kB)\n",
            "\u001b[K     |████████████████████████████████| 890kB 54.3MB/s \n",
            "\u001b[?25hRequirement already satisfied: regex in /usr/local/lib/python3.7/dist-packages (from pytorch-transformers) (2019.12.20)\n",
            "Requirement already satisfied: numpy in /usr/local/lib/python3.7/dist-packages (from pytorch-transformers) (1.19.5)\n",
            "Requirement already satisfied: typing-extensions in /usr/local/lib/python3.7/dist-packages (from torch>=1.0.0->pytorch-transformers) (3.7.4.3)\n",
            "Requirement already satisfied: certifi>=2017.4.17 in /usr/local/lib/python3.7/dist-packages (from requests->pytorch-transformers) (2020.12.5)\n",
            "Requirement already satisfied: urllib3!=1.25.0,!=1.25.1,<1.26,>=1.21.1 in /usr/local/lib/python3.7/dist-packages (from requests->pytorch-transformers) (1.24.3)\n",
            "Requirement already satisfied: idna<3,>=2.5 in /usr/local/lib/python3.7/dist-packages (from requests->pytorch-transformers) (2.10)\n",
            "Requirement already satisfied: chardet<4,>=3.0.2 in /usr/local/lib/python3.7/dist-packages (from requests->pytorch-transformers) (3.0.4)\n",
            "Collecting botocore<1.21.0,>=1.20.30\n",
            "\u001b[?25l  Downloading https://files.pythonhosted.org/packages/73/a2/48e27ec197527c8a73588b629305a0f31f14426487a34361b867c0a8deaa/botocore-1.20.30-py2.py3-none-any.whl (7.3MB)\n",
            "\u001b[K     |████████████████████████████████| 7.3MB 46.3MB/s \n",
            "\u001b[?25hCollecting jmespath<1.0.0,>=0.7.1\n",
            "  Downloading https://files.pythonhosted.org/packages/07/cb/5f001272b6faeb23c1c9e0acc04d48eaaf5c862c17709d20e3469c6e0139/jmespath-0.10.0-py2.py3-none-any.whl\n",
            "Collecting s3transfer<0.4.0,>=0.3.0\n",
            "\u001b[?25l  Downloading https://files.pythonhosted.org/packages/ea/43/4b4a1b26eb03a429a4c37ca7fdf369d938bd60018fc194e94b8379b0c77c/s3transfer-0.3.4-py2.py3-none-any.whl (69kB)\n",
            "\u001b[K     |████████████████████████████████| 71kB 336kB/s \n",
            "\u001b[?25hRequirement already satisfied: six in /usr/local/lib/python3.7/dist-packages (from sacremoses->pytorch-transformers) (1.15.0)\n",
            "Requirement already satisfied: click in /usr/local/lib/python3.7/dist-packages (from sacremoses->pytorch-transformers) (7.1.2)\n",
            "Requirement already satisfied: joblib in /usr/local/lib/python3.7/dist-packages (from sacremoses->pytorch-transformers) (1.0.1)\n",
            "Requirement already satisfied: python-dateutil<3.0.0,>=2.1 in /usr/local/lib/python3.7/dist-packages (from botocore<1.21.0,>=1.20.30->boto3->pytorch-transformers) (2.8.1)\n",
            "Building wheels for collected packages: sacremoses\n",
            "  Building wheel for sacremoses (setup.py) ... \u001b[?25l\u001b[?25hdone\n",
            "  Created wheel for sacremoses: filename=sacremoses-0.0.43-cp37-none-any.whl size=893262 sha256=3f2bf791c23b6b87a69049c0703ba0c61c173acbb89b39aa57160fba3315a3f7\n",
            "  Stored in directory: /root/.cache/pip/wheels/29/3c/fd/7ce5c3f0666dab31a50123635e6fb5e19ceb42ce38d4e58f45\n",
            "Successfully built sacremoses\n",
            "\u001b[31mERROR: botocore 1.20.30 has requirement urllib3<1.27,>=1.25.4, but you'll have urllib3 1.24.3 which is incompatible.\u001b[0m\n",
            "Installing collected packages: sentencepiece, jmespath, botocore, s3transfer, boto3, sacremoses, pytorch-transformers\n",
            "Successfully installed boto3-1.17.30 botocore-1.20.30 jmespath-0.10.0 pytorch-transformers-1.2.0 s3transfer-0.3.4 sacremoses-0.0.43 sentencepiece-0.1.95\n",
            "Requirement already satisfied: seaborn in /usr/local/lib/python3.7/dist-packages (0.11.1)\n",
            "Requirement already satisfied: scipy>=1.0 in /usr/local/lib/python3.7/dist-packages (from seaborn) (1.4.1)\n",
            "Requirement already satisfied: numpy>=1.15 in /usr/local/lib/python3.7/dist-packages (from seaborn) (1.19.5)\n",
            "Requirement already satisfied: pandas>=0.23 in /usr/local/lib/python3.7/dist-packages (from seaborn) (1.1.5)\n",
            "Requirement already satisfied: matplotlib>=2.2 in /usr/local/lib/python3.7/dist-packages (from seaborn) (3.2.2)\n",
            "Requirement already satisfied: pytz>=2017.2 in /usr/local/lib/python3.7/dist-packages (from pandas>=0.23->seaborn) (2018.9)\n",
            "Requirement already satisfied: python-dateutil>=2.7.3 in /usr/local/lib/python3.7/dist-packages (from pandas>=0.23->seaborn) (2.8.1)\n",
            "Requirement already satisfied: kiwisolver>=1.0.1 in /usr/local/lib/python3.7/dist-packages (from matplotlib>=2.2->seaborn) (1.3.1)\n",
            "Requirement already satisfied: cycler>=0.10 in /usr/local/lib/python3.7/dist-packages (from matplotlib>=2.2->seaborn) (0.10.0)\n",
            "Requirement already satisfied: pyparsing!=2.0.4,!=2.1.2,!=2.1.6,>=2.0.1 in /usr/local/lib/python3.7/dist-packages (from matplotlib>=2.2->seaborn) (2.4.7)\n",
            "Requirement already satisfied: six>=1.5 in /usr/local/lib/python3.7/dist-packages (from python-dateutil>=2.7.3->pandas>=0.23->seaborn) (1.15.0)\n"
          ],
          "name": "stdout"
        }
      ]
    },
    {
      "cell_type": "code",
      "metadata": {
        "colab": {
          "base_uri": "https://localhost:8080/"
        },
        "id": "4rMVObxrPM4n",
        "outputId": "346e328a-42a3-43e9-a8a1-8463d6e03d73"
      },
      "source": [
        "%cd /content/drive/MyDrive/new_exp/chatbot/LSTM_Attention_chatbot\n",
        "from model import LSTMEncoderDecoder_Attention\n",
        "from exp import train, test_generation, QandA"
      ],
      "execution_count": null,
      "outputs": [
        {
          "output_type": "stream",
          "text": [
            "/content/drive/MyDrive/new_exp/chatbot/LSTM_Attention_chatbot\n"
          ],
          "name": "stdout"
        }
      ]
    },
    {
      "cell_type": "code",
      "metadata": {
        "colab": {
          "base_uri": "https://localhost:8080/",
          "height": 1000
        },
        "id": "PfUPLJBL3Oze",
        "outputId": "d87524ee-75e9-46b9-f641-1f4009b3a3d4"
      },
      "source": [
        "lr = 0.0001\n",
        "batch_size = 50\n",
        "epochs = 5500\n",
        "gpu = True\n",
        "show_generate = int(epochs * 0.1)\n",
        "model = LSTMEncoderDecoder_Attention()\n",
        "model = train(model, gpu, lr, batch_size, epochs, train_dataset, validation_dataset, show_generate)\n",
        "torch.save(model.state_dict(), \"/content/drive/MyDrive/new_exp/chatbot/LSTM_Attention_chatbot/model_parameters/model512.pth\")"
      ],
      "execution_count": null,
      "outputs": [
        {
          "output_type": "stream",
          "text": [
            "epochs :  0\n",
            "train_loss :  10.40402889251709\n",
            "validation_loss 10.161693572998047\n",
            "~~~~\n",
            "question :  it's on the corner.\n",
            "gold answer :  so?\n",
            "Generated Answer :  pierce pierce pierce pierce pierce pierce pierce pierce pierce pierce pierce pierce pierce pierce pierce pierce pierce pierce pierce pierce pierce pierce pierce pierce pierce pierce pierce pierce pierce pierce pierce pierce pierce pierce pierce pierce pierce pierce pierce pierce pierce pierce pierce pierce pierce pierce pierce pierce pierce\n",
            "~~~~\n",
            "elapsed time :  1.811669111251831\n",
            "=============================================================\n",
            "epochs :  600\n",
            "train_loss :  3.3641045093536377\n",
            "validation_loss 4.978066921234131\n",
            "~~~~\n",
            "question :  i eat the same thing every day.\n",
            "gold answer :  you're kidding.\n",
            "Generated Answer :  i the the a a a a?\n",
            "~~~~\n",
            "elapsed time :  981.2578117847443\n",
            "=============================================================\n",
            "epochs :  1200\n",
            "train_loss :  1.960339903831482\n",
            "validation_loss 5.638160705566406\n",
            "~~~~\n",
            "question :  what kind of dressing do you use?\n",
            "gold answer :  i pour lots of french dressing on top.\n",
            "Generated Answer :  i have to have a have.\n",
            "~~~~\n",
            "elapsed time :  1960.4677457809448\n",
            "=============================================================\n",
            "epochs :  1800\n",
            "train_loss :  1.2227823734283447\n",
            "validation_loss 6.175973415374756\n",
            "~~~~\n",
            "question :  who's paying for that?\n",
            "gold answer :  i think we are!\n",
            "Generated Answer :  s there's no.\n",
            "~~~~\n",
            "elapsed time :  2949.9627985954285\n",
            "=============================================================\n",
            "epochs :  2400\n",
            "train_loss :  0.6517937183380127\n",
            "validation_loss 6.2223405838012695\n",
            "~~~~\n",
            "question :  what are you going to do?\n",
            "gold answer :  i sent them an email asking for my money back.\n",
            "Generated Answer :  i'm newspaper a newspaper in the newspaper for the newspaper.\n",
            "~~~~\n",
            "elapsed time :  3948.217214822769\n",
            "=============================================================\n",
            "epochs :  3000\n",
            "train_loss :  0.7025485038757324\n",
            "validation_loss 6.323693752288818\n",
            "~~~~\n",
            "question :  i thought you just bought a pair.\n",
            "gold answer :  i did.\n",
            "Generated Answer :  i't didn't cadillac and cadillac.\n",
            "~~~~\n",
            "elapsed time :  4944.974102735519\n",
            "=============================================================\n",
            "epochs :  3600\n",
            "train_loss :  0.6449416875839233\n",
            "validation_loss 6.483940601348877\n",
            "~~~~\n",
            "question :  of course you are. you ate everything on the table.\n",
            "gold answer :  i don't like to eat leftovers.\n",
            "Generated Answer :  i't't't to't to understand.\n",
            "~~~~\n",
            "elapsed time :  5939.255802869797\n",
            "=============================================================\n",
            "epochs :  4200\n",
            "train_loss :  0.3977549970149994\n",
            "validation_loss 6.772233963012695\n",
            "~~~~\n",
            "question :  it's on the corner.\n",
            "gold answer :  so?\n",
            "Generated Answer :  what'what it is about this about about it?\n",
            "~~~~\n",
            "elapsed time :  6931.67597079277\n",
            "=============================================================\n",
            "epochs :  4800\n",
            "train_loss :  0.6119541525840759\n",
            "validation_loss 7.036600112915039\n",
            "~~~~\n",
            "question :  how many rich people do you know?\n",
            "gold answer :  none.\n",
            "Generated Answer :  i'm is the is is is.\n",
            "~~~~\n",
            "elapsed time :  7914.843770503998\n",
            "=============================================================\n",
            "epochs :  5400\n",
            "train_loss :  0.4929557740688324\n",
            "validation_loss 7.682399749755859\n",
            "~~~~\n",
            "question :  no, it isn't. he almost died when he was little.\n",
            "gold answer :  i guess he has to be very careful about what he eats.\n",
            "Generated Answer :  but but but a yesterday his his his his his his his his his his his his his his his his his his his his his his his his his his his his his his his his his his his his his his his his his his his his\n",
            "~~~~\n",
            "elapsed time :  8886.930097818375\n",
            "=============================================================\n",
            "training finished\n"
          ],
          "name": "stdout"
        },
        {
          "output_type": "display_data",
          "data": {
            "image/png": "[encoded data removed]",
            "text/plain": [
              "<Figure size 432x288 with 1 Axes>"
            ]
          },
          "metadata": {
            "tags": [],
            "needs_background": "light"
          }
        }
      ]
    },
    {
      "cell_type": "code",
      "metadata": {
        "id": "2AScXkoNAkFq"
      },
      "source": [
        "def ans(question):\n",
        "    QandA(model, question, gpu, show_Q=True, viz=True)"
      ],
      "execution_count": null,
      "outputs": []
    },
    {
      "cell_type": "code",
      "metadata": {
        "colab": {
          "base_uri": "https://localhost:8080/",
          "height": 69
        },
        "id": "xSO5yYUsUXFl",
        "outputId": "c88fe699-66de-4602-8050-fceba7bea7d4"
      },
      "source": [
        "QandA(model, \"hello?\", gpu, show_Q=True, viz=True)"
      ],
      "execution_count": null,
      "outputs": [
        {
          "output_type": "stream",
          "text": [
            "Q :  hello?\n",
            "A :  \n"
          ],
          "name": "stdout"
        },
        {
          "output_type": "execute_result",
          "data": {
            "application/vnd.google.colaboratory.intrinsic+json": {
              "type": "string"
            },
            "text/plain": [
              "''"
            ]
          },
          "metadata": {
            "tags": []
          },
          "execution_count": 5
        }
      ]
    },
    {
      "cell_type": "code",
      "metadata": {
        "colab": {
          "base_uri": "https://localhost:8080/",
          "height": 336
        },
        "id": "LHXRA9waT5G9",
        "outputId": "e0730513-d42c-4c28-cd7c-67a79c8cab8a"
      },
      "source": [
        "ans(\"hi, how are you doing?\")"
      ],
      "execution_count": null,
      "outputs": [
        {
          "output_type": "stream",
          "text": [
            "Q :  hi, how are you doing?\n",
            "A :  i'm fine. how about fine?\n"
          ],
          "name": "stdout"
        },
        {
          "output_type": "display_data",
          "data": {
            "image/png": "[encoded data removed]",
            "text/plain": [
              "<Figure size 432x336 with 2 Axes>"
            ]
          },
          "metadata": {
            "tags": [],
            "needs_background": "light"
          }
        }
      ]
    },
    {
      "cell_type": "code",
      "metadata": {
        "colab": {
          "base_uri": "https://localhost:8080/",
          "height": 227
        },
        "id": "1CjCW5qiYJEz",
        "outputId": "00a2fe14-0f20-48a0-9793-8ffb8106018b"
      },
      "source": [
        "ans(\"where are you?\")"
      ],
      "execution_count": null,
      "outputs": [
        {
          "output_type": "stream",
          "text": [
            "Q :  where are you?\n",
            "A :  the out're to m to i to s.\n"
          ],
          "name": "stdout"
        },
        {
          "output_type": "display_data",
          "data": {
            "image/png": "[encoded data removed]",
            "text/plain": [
              "<Figure size 528x192 with 2 Axes>"
            ]
          },
          "metadata": {
            "tags": [],
            "needs_background": "light"
          }
        }
      ]
    },
    {
      "cell_type": "code",
      "metadata": {
        "id": "U2gzzIXMQ5Nt"
      },
      "source": [
        "def conversation(num, first_question):\n",
        "    answer = QandA(model, first_question, gpu, tmp=1.0, top_p=0, top_k=40, show_Q=True, viz=False)\n",
        "    for i in range(num):\n",
        "        if len(answer) == 0:\n",
        "            answer = \"?\"\n",
        "        answer = QandA(model, answer, gpu, show_Q=False, tmp=1.0, top_p=0, top_k=40, viz=False)"
      ],
      "execution_count": null,
      "outputs": []
    },
    {
      "cell_type": "code",
      "metadata": {
        "colab": {
          "base_uri": "https://localhost:8080/"
        },
        "id": "1wVjF3pdRkuZ",
        "outputId": "492c4f39-e929-42fb-a248-e14b7ae3b46a"
      },
      "source": [
        "conversation(20, \"where are you?\")"
      ],
      "execution_count": null,
      "outputs": [
        {
          "output_type": "stream",
          "text": [
            "Q :  where are you?\n",
            "A :  i re walk.\n",
            "A :  the the the the the the that the the the, go.\n",
            "A :  where much their got of them.. without go of about do, of got say.\n",
            "A :  i go to the waiter.\n",
            "A :  you lake coffee, the lake?\n",
            "A :  yes, yes.\n",
            "A :  so beautiful is that?\n",
            "A :  i was half ball. that'i was lot, that all i just love that that the that yes of is.\n",
            "A :  no, i will gives the like the like, it was, all i'went on the come.\n",
            "A :  that's good, all fun.\n",
            "A :  i think your visit give you up?\n",
            "A :  i think my cemetery have, my favorite good, be, my car it will like there, my be, my be, my me, my going, my be good, my gun.\n",
            "A :  oh, visit how go or you.\n",
            "A :  you's a is reason, you sounds like for do.\n",
            "A :  i am go to come.\n",
            "A :  that a nice like idea.\n",
            "A :  yes in really new salad.\n",
            "A :  ''''''ll think get a to really to go.\n",
            "A :  come. you feel so out.\n",
            "A :  it love a gave, that please.\n",
            "A :  yes in the me in the once.\n"
          ],
          "name": "stdout"
        }
      ]
    },
    {
      "cell_type": "code",
      "metadata": {
        "id": "oRL1kSCZRWfQ"
      },
      "source": [
        "torch.save(model.state_dict(), \"/content/drive/MyDrive/new_exp/chatbot/LSTM_Attention_chatbot/model_parameters/model512.pth\")"
      ],
      "execution_count": null,
      "outputs": []
    },
    {
      "cell_type": "code",
      "metadata": {
        "id": "2U4afp24o6X6"
      },
      "source": [
        "from pytorch_transformers import BertTokenizer, BertModel\n",
        "tokenizer = BertTokenizer.from_pretrained('bert-base-uncased')\n"
      ],
      "execution_count": null,
      "outputs": []
    },
    {
      "cell_type": "code",
      "metadata": {
        "colab": {
          "base_uri": "https://localhost:8080/",
          "height": 1000
        },
        "id": "wSbT6zHkq_HF",
        "outputId": "c69e7036-d77b-4267-edc1-21cd9985ffcd"
      },
      "source": [
        "model = train(model, gpu, lr, batch_size, epochs, train_dataset, validation_dataset, show_generate)"
      ],
      "execution_count": null,
      "outputs": [
        {
          "output_type": "stream",
          "text": [
            "epochs :  0\n",
            "train_loss :  0.4087396562099457\n",
            "validation_loss 6.884401798248291\n",
            "~~~~\n",
            "question :  to the state or the city?\n",
            "gold answer :  to the city, of course.\n",
            "Generated Answer :  the''''''''''''''''''''''''''''''''''''''''''''''''\n",
            "~~~~\n",
            "elapsed time :  1.734804630279541\n",
            "=============================================================\n",
            "epochs :  600\n",
            "train_loss :  0.3424221873283386\n",
            "validation_loss 7.430076599121094\n",
            "~~~~\n",
            "question :  have you heard from them?\n",
            "gold answer :  not yet. it's been a week.\n",
            "Generated Answer :  i haven haven haven haven haven haven haven heard.\n",
            "~~~~\n",
            "elapsed time :  964.5397582054138\n",
            "=============================================================\n",
            "epochs :  1200\n",
            "train_loss :  0.4529457092285156\n",
            "validation_loss 7.125041961669922\n",
            "~~~~\n",
            "question :  no, i'm serious.\n",
            "gold answer :  doesn't that get old?\n",
            "Generated Answer :  i't want to blind a blind to want to blind a blind to want to blind a blind to want to blind a blind to want to blind a blind to want to blind a blind to want to blind a blind to want to blind a\n",
            "~~~~\n",
            "elapsed time :  1920.946453332901\n",
            "=============================================================\n",
            "epochs :  1800\n",
            "train_loss :  0.40671536326408386\n",
            "validation_loss 7.197021484375\n",
            "~~~~\n",
            "question :  oh, all over the world.\n",
            "gold answer :  but he's supposed to be making our city a better place.\n",
            "Generated Answer :  you coming make it.\n",
            "~~~~\n",
            "elapsed time :  2881.5167376995087\n",
            "=============================================================\n",
            "epochs :  2400\n",
            "train_loss :  0.45738840103149414\n",
            "validation_loss 7.062346935272217\n",
            "~~~~\n",
            "question :  we get a lot of things from cows, don't we?\n",
            "gold answer :  yes. a cow is man's best friend.\n",
            "Generated Answer :  no, you't weather to you't weather, you't weather, you't weather, you't weather, you't weather, you't weather, you't weather, you't weather, you '\n",
            "~~~~\n",
            "elapsed time :  3846.041407585144\n",
            "=============================================================\n",
            "epochs :  3000\n",
            "train_loss :  0.3911692798137665\n",
            "validation_loss 6.760852336883545\n",
            "~~~~\n",
            "question :  it's an upstairs unit.\n",
            "gold answer :  that's good, because i don't want to live under people with loud feet.\n",
            "Generated Answer :  how to you think, how, you's an, how to you?\n",
            "~~~~\n",
            "elapsed time :  4808.972635984421\n",
            "=============================================================\n",
            "epochs :  3600\n",
            "train_loss :  0.15563811361789703\n",
            "validation_loss 7.058160305023193\n",
            "~~~~\n",
            "question :  have you decided how you are going to vote?\n",
            "gold answer :  do you mean on measures 1, 2, and 3?\n",
            "Generated Answer :  i m one. i don'm army, i don m one.\n",
            "~~~~\n",
            "elapsed time :  5766.573364019394\n",
            "=============================================================\n",
            "epochs :  4200\n",
            "train_loss :  0.29668131470680237\n",
            "validation_loss 7.328800201416016\n",
            "~~~~\n",
            "question :  where does he travel to?\n",
            "gold answer :  oh, all over the world.\n",
            "Generated Answer :  it't no to no good.\n",
            "~~~~\n",
            "elapsed time :  6727.475268125534\n",
            "=============================================================\n",
            "epochs :  4800\n",
            "train_loss :  0.21369270980358124\n",
            "validation_loss 7.016678333282471\n",
            "~~~~\n",
            "question :  it was on sale.\n",
            "gold answer :  how much did you buy?\n",
            "Generated Answer :  it was get, it was, it was on now.\n",
            "~~~~\n",
            "elapsed time :  7690.259385585785\n",
            "=============================================================\n",
            "epochs :  5400\n",
            "train_loss :  0.23031270503997803\n",
            "validation_loss 7.740238666534424\n",
            "~~~~\n",
            "question :  you sure do.\n",
            "gold answer :  and you get a lot of exercise every day.\n",
            "Generated Answer :  i'i'i'i'i'i'i'i'i'i'i'i'i'i'i'i'i'i'i'i'i'i'i'i'i\n",
            "~~~~\n",
            "elapsed time :  8651.136264801025\n",
            "=============================================================\n",
            "training finished\n"
          ],
          "name": "stdout"
        },
        {
          "output_type": "display_data",
          "data": {
            "image/png": "[encoded data removed]",
            "text/plain": [
              "<Figure size 432x288 with 1 Axes>"
            ]
          },
          "metadata": {
            "tags": [],
            "needs_background": "light"
          }
        }
      ]
    },
    {
      "cell_type": "code",
      "metadata": {
        "id": "yfHvwq4orQRb"
      },
      "source": [
        "torch.save(model.state_dict(), \"/content/drive/MyDrive/new_exp/chatbot/LSTM_Attention_chatbot/model_parameters/model512_2.pth\")"
      ],
      "execution_count": null,
      "outputs": []
    },
    {
      "cell_type": "code",
      "metadata": {
        "colab": {
          "base_uri": "https://localhost:8080/",
          "height": 258
        },
        "id": "ErhTrVuOrVRP",
        "outputId": "674d932d-beb2-481f-989d-4116f9fb990d"
      },
      "source": [
        "ans(\"how are you?\")"
      ],
      "execution_count": null,
      "outputs": [
        {
          "output_type": "stream",
          "text": [
            "Q :  how are you?\n",
            "A :  i'm about average.\n"
          ],
          "name": "stdout"
        },
        {
          "output_type": "display_data",
          "data": {
            "image/png": "[encoded data removed]",
            "text/plain": [
              "<Figure size 288x192 with 2 Axes>"
            ]
          },
          "metadata": {
            "tags": [],
            "needs_background": "light"
          }
        }
      ]
    },
    {
      "cell_type": "code",
      "metadata": {
        "colab": {
          "base_uri": "https://localhost:8080/",
          "height": 227
        },
        "id": "NhLejcIhrYNQ",
        "outputId": "c9b791bb-9028-4d3a-9eaf-050ffb999f63"
      },
      "source": [
        "ans(\"where are you?\")"
      ],
      "execution_count": null,
      "outputs": [
        {
          "output_type": "stream",
          "text": [
            "Q :  where are you?\n",
            "A :  i'm dogc in m out.\n"
          ],
          "name": "stdout"
        },
        {
          "output_type": "display_data",
          "data": {
            "image/png": "[encoded data removed]",
            "text/plain": [
              "<Figure size 432x192 with 2 Axes>"
            ]
          },
          "metadata": {
            "tags": [],
            "needs_background": "light"
          }
        }
      ]
    },
    {
      "cell_type": "code",
      "metadata": {
        "colab": {
          "base_uri": "https://localhost:8080/",
          "height": 484
        },
        "id": "Il8nQdjtrYA0",
        "outputId": "f7efc139-5241-42b1-e134-7957630dcc60"
      },
      "source": [
        "ans(\"you are welcome\")"
      ],
      "execution_count": null,
      "outputs": [
        {
          "output_type": "stream",
          "text": [
            "Q :  you are welcome\n",
            "A :  what are the the not the not the not the the are not the the not the not the not the not the not the the not the the are not the the not the not the the not the the are not the the are not the not\n"
          ],
          "name": "stdout"
        },
        {
          "output_type": "error",
          "ename": "ValueError",
          "evalue": "ignored",
          "traceback": [
            "\u001b[0;31m---------------------------------------------------------------------------\u001b[0m",
            "\u001b[0;31mValueError\u001b[0m                                Traceback (most recent call last)",
            "\u001b[0;32m/usr/local/lib/python3.7/dist-packages/pandas/core/internals/managers.py\u001b[0m in \u001b[0;36mcreate_block_manager_from_blocks\u001b[0;34m(blocks, axes)\u001b[0m\n\u001b[1;32m   1670\u001b[0m                 blocks = [\n\u001b[0;32m-> 1671\u001b[0;31m                     \u001b[0mmake_block\u001b[0m\u001b[0;34m(\u001b[0m\u001b[0mvalues\u001b[0m\u001b[0;34m=\u001b[0m\u001b[0mblocks\u001b[0m\u001b[0;34m[\u001b[0m\u001b[0;36m0\u001b[0m\u001b[0;34m]\u001b[0m\u001b[0;34m,\u001b[0m \u001b[0mplacement\u001b[0m\u001b[0;34m=\u001b[0m\u001b[0mslice\u001b[0m\u001b[0;34m(\u001b[0m\u001b[0;36m0\u001b[0m\u001b[0;34m,\u001b[0m \u001b[0mlen\u001b[0m\u001b[0;34m(\u001b[0m\u001b[0maxes\u001b[0m\u001b[0;34m[\u001b[0m\u001b[0;36m0\u001b[0m\u001b[0;34m]\u001b[0m\u001b[0;34m)\u001b[0m\u001b[0;34m)\u001b[0m\u001b[0;34m)\u001b[0m\u001b[0;34m\u001b[0m\u001b[0;34m\u001b[0m\u001b[0m\n\u001b[0m\u001b[1;32m   1672\u001b[0m                 ]\n",
            "\u001b[0;32m/usr/local/lib/python3.7/dist-packages/pandas/core/internals/blocks.py\u001b[0m in \u001b[0;36mmake_block\u001b[0;34m(values, placement, klass, ndim, dtype)\u001b[0m\n\u001b[1;32m   2743\u001b[0m \u001b[0;34m\u001b[0m\u001b[0m\n\u001b[0;32m-> 2744\u001b[0;31m     \u001b[0;32mreturn\u001b[0m \u001b[0mklass\u001b[0m\u001b[0;34m(\u001b[0m\u001b[0mvalues\u001b[0m\u001b[0;34m,\u001b[0m \u001b[0mndim\u001b[0m\u001b[0;34m=\u001b[0m\u001b[0mndim\u001b[0m\u001b[0;34m,\u001b[0m \u001b[0mplacement\u001b[0m\u001b[0;34m=\u001b[0m\u001b[0mplacement\u001b[0m\u001b[0;34m)\u001b[0m\u001b[0;34m\u001b[0m\u001b[0;34m\u001b[0m\u001b[0m\n\u001b[0m\u001b[1;32m   2745\u001b[0m \u001b[0;34m\u001b[0m\u001b[0m\n",
            "\u001b[0;32m/usr/local/lib/python3.7/dist-packages/pandas/core/internals/blocks.py\u001b[0m in \u001b[0;36m__init__\u001b[0;34m(self, values, placement, ndim)\u001b[0m\n\u001b[1;32m    130\u001b[0m             raise ValueError(\n\u001b[0;32m--> 131\u001b[0;31m                 \u001b[0;34mf\"Wrong number of items passed {len(self.values)}, \"\u001b[0m\u001b[0;34m\u001b[0m\u001b[0;34m\u001b[0m\u001b[0m\n\u001b[0m\u001b[1;32m    132\u001b[0m                 \u001b[0;34mf\"placement implies {len(self.mgr_locs)}\"\u001b[0m\u001b[0;34m\u001b[0m\u001b[0;34m\u001b[0m\u001b[0m\n",
            "\u001b[0;31mValueError\u001b[0m: Wrong number of items passed 50, placement implies 49",
            "\nDuring handling of the above exception, another exception occurred:\n",
            "\u001b[0;31mValueError\u001b[0m                                Traceback (most recent call last)",
            "\u001b[0;32m<ipython-input-47-abeeeb99b6b0>\u001b[0m in \u001b[0;36m<module>\u001b[0;34m()\u001b[0m\n\u001b[0;32m----> 1\u001b[0;31m \u001b[0mans\u001b[0m\u001b[0;34m(\u001b[0m\u001b[0;34m\"you are welcome\"\u001b[0m\u001b[0;34m)\u001b[0m\u001b[0;34m\u001b[0m\u001b[0;34m\u001b[0m\u001b[0m\n\u001b[0m",
            "\u001b[0;32m<ipython-input-4-7c4f42e5c0ea>\u001b[0m in \u001b[0;36mans\u001b[0;34m(question)\u001b[0m\n\u001b[1;32m      1\u001b[0m \u001b[0;32mdef\u001b[0m \u001b[0mans\u001b[0m\u001b[0;34m(\u001b[0m\u001b[0mquestion\u001b[0m\u001b[0;34m)\u001b[0m\u001b[0;34m:\u001b[0m\u001b[0;34m\u001b[0m\u001b[0;34m\u001b[0m\u001b[0m\n\u001b[0;32m----> 2\u001b[0;31m     \u001b[0mQandA\u001b[0m\u001b[0;34m(\u001b[0m\u001b[0mmodel\u001b[0m\u001b[0;34m,\u001b[0m \u001b[0mquestion\u001b[0m\u001b[0;34m,\u001b[0m \u001b[0mgpu\u001b[0m\u001b[0;34m,\u001b[0m \u001b[0mshow_Q\u001b[0m\u001b[0;34m=\u001b[0m\u001b[0;32mTrue\u001b[0m\u001b[0;34m,\u001b[0m \u001b[0mviz\u001b[0m\u001b[0;34m=\u001b[0m\u001b[0;32mTrue\u001b[0m\u001b[0;34m)\u001b[0m\u001b[0;34m\u001b[0m\u001b[0;34m\u001b[0m\u001b[0m\n\u001b[0m",
            "\u001b[0;32m/content/drive/My Drive/new_exp/chatbot/LSTM_Attention_chatbot/exp.py\u001b[0m in \u001b[0;36mQandA\u001b[0;34m(model, question, gpu, show_Q, tokenizer, viz)\u001b[0m\n\u001b[1;32m    130\u001b[0m         \u001b[0mviz\u001b[0m \u001b[0;34m=\u001b[0m \u001b[0;32mFalse\u001b[0m\u001b[0;34m\u001b[0m\u001b[0;34m\u001b[0m\u001b[0m\n\u001b[1;32m    131\u001b[0m     \u001b[0;32mif\u001b[0m \u001b[0mviz\u001b[0m\u001b[0;34m:\u001b[0m\u001b[0;34m\u001b[0m\u001b[0;34m\u001b[0m\u001b[0m\n\u001b[0;32m--> 132\u001b[0;31m         \u001b[0mvisualize_attention\u001b[0m\u001b[0;34m(\u001b[0m\u001b[0mattention\u001b[0m\u001b[0;34m,\u001b[0m \u001b[0mquestion\u001b[0m\u001b[0;34m,\u001b[0m \u001b[0mansw_ids\u001b[0m\u001b[0;34m)\u001b[0m\u001b[0;34m\u001b[0m\u001b[0;34m\u001b[0m\u001b[0m\n\u001b[0m\u001b[1;32m    133\u001b[0m     \u001b[0;32mreturn\u001b[0m \u001b[0mansw\u001b[0m\u001b[0;34m\u001b[0m\u001b[0;34m\u001b[0m\u001b[0m\n\u001b[1;32m    134\u001b[0m \u001b[0;34m\u001b[0m\u001b[0m\n",
            "\u001b[0;32m/content/drive/My Drive/new_exp/chatbot/LSTM_Attention_chatbot/exp.py\u001b[0m in \u001b[0;36mvisualize_attention\u001b[0;34m(attention, question, answer, tokenizer)\u001b[0m\n\u001b[1;32m    142\u001b[0m \u001b[0;34m\u001b[0m\u001b[0m\n\u001b[1;32m    143\u001b[0m \u001b[0;34m\u001b[0m\u001b[0m\n\u001b[0;32m--> 144\u001b[0;31m     \u001b[0mdf\u001b[0m \u001b[0;34m=\u001b[0m \u001b[0mpd\u001b[0m\u001b[0;34m.\u001b[0m\u001b[0mDataFrame\u001b[0m\u001b[0;34m(\u001b[0m\u001b[0mattention\u001b[0m\u001b[0;34m,\u001b[0m \u001b[0mcolumns\u001b[0m\u001b[0;34m=\u001b[0m\u001b[0manswer\u001b[0m\u001b[0;34m,\u001b[0m \u001b[0mindex\u001b[0m\u001b[0;34m=\u001b[0m\u001b[0mquestion\u001b[0m\u001b[0;34m)\u001b[0m\u001b[0;34m\u001b[0m\u001b[0;34m\u001b[0m\u001b[0m\n\u001b[0m\u001b[1;32m    145\u001b[0m     \u001b[0mx\u001b[0m \u001b[0;34m=\u001b[0m \u001b[0mlen\u001b[0m\u001b[0;34m(\u001b[0m\u001b[0manswer\u001b[0m\u001b[0;34m)\u001b[0m\u001b[0;34m\u001b[0m\u001b[0;34m\u001b[0m\u001b[0m\n\u001b[1;32m    146\u001b[0m     \u001b[0my\u001b[0m \u001b[0;34m=\u001b[0m \u001b[0mlen\u001b[0m\u001b[0;34m(\u001b[0m\u001b[0mquestion\u001b[0m\u001b[0;34m)\u001b[0m\u001b[0;34m\u001b[0m\u001b[0;34m\u001b[0m\u001b[0m\n",
            "\u001b[0;32m/usr/local/lib/python3.7/dist-packages/pandas/core/frame.py\u001b[0m in \u001b[0;36m__init__\u001b[0;34m(self, data, index, columns, dtype, copy)\u001b[0m\n\u001b[1;32m    495\u001b[0m                 \u001b[0mmgr\u001b[0m \u001b[0;34m=\u001b[0m \u001b[0minit_dict\u001b[0m\u001b[0;34m(\u001b[0m\u001b[0;34m{\u001b[0m\u001b[0mdata\u001b[0m\u001b[0;34m.\u001b[0m\u001b[0mname\u001b[0m\u001b[0;34m:\u001b[0m \u001b[0mdata\u001b[0m\u001b[0;34m}\u001b[0m\u001b[0;34m,\u001b[0m \u001b[0mindex\u001b[0m\u001b[0;34m,\u001b[0m \u001b[0mcolumns\u001b[0m\u001b[0;34m,\u001b[0m \u001b[0mdtype\u001b[0m\u001b[0;34m=\u001b[0m\u001b[0mdtype\u001b[0m\u001b[0;34m)\u001b[0m\u001b[0;34m\u001b[0m\u001b[0;34m\u001b[0m\u001b[0m\n\u001b[1;32m    496\u001b[0m             \u001b[0;32melse\u001b[0m\u001b[0;34m:\u001b[0m\u001b[0;34m\u001b[0m\u001b[0;34m\u001b[0m\u001b[0m\n\u001b[0;32m--> 497\u001b[0;31m                 \u001b[0mmgr\u001b[0m \u001b[0;34m=\u001b[0m \u001b[0minit_ndarray\u001b[0m\u001b[0;34m(\u001b[0m\u001b[0mdata\u001b[0m\u001b[0;34m,\u001b[0m \u001b[0mindex\u001b[0m\u001b[0;34m,\u001b[0m \u001b[0mcolumns\u001b[0m\u001b[0;34m,\u001b[0m \u001b[0mdtype\u001b[0m\u001b[0;34m=\u001b[0m\u001b[0mdtype\u001b[0m\u001b[0;34m,\u001b[0m \u001b[0mcopy\u001b[0m\u001b[0;34m=\u001b[0m\u001b[0mcopy\u001b[0m\u001b[0;34m)\u001b[0m\u001b[0;34m\u001b[0m\u001b[0;34m\u001b[0m\u001b[0m\n\u001b[0m\u001b[1;32m    498\u001b[0m \u001b[0;34m\u001b[0m\u001b[0m\n\u001b[1;32m    499\u001b[0m         \u001b[0;31m# For data is list-like, or Iterable (will consume into list)\u001b[0m\u001b[0;34m\u001b[0m\u001b[0;34m\u001b[0m\u001b[0;34m\u001b[0m\u001b[0m\n",
            "\u001b[0;32m/usr/local/lib/python3.7/dist-packages/pandas/core/internals/construction.py\u001b[0m in \u001b[0;36minit_ndarray\u001b[0;34m(values, index, columns, dtype, copy)\u001b[0m\n\u001b[1;32m    232\u001b[0m         \u001b[0mblock_values\u001b[0m \u001b[0;34m=\u001b[0m \u001b[0;34m[\u001b[0m\u001b[0mvalues\u001b[0m\u001b[0;34m]\u001b[0m\u001b[0;34m\u001b[0m\u001b[0;34m\u001b[0m\u001b[0m\n\u001b[1;32m    233\u001b[0m \u001b[0;34m\u001b[0m\u001b[0m\n\u001b[0;32m--> 234\u001b[0;31m     \u001b[0;32mreturn\u001b[0m \u001b[0mcreate_block_manager_from_blocks\u001b[0m\u001b[0;34m(\u001b[0m\u001b[0mblock_values\u001b[0m\u001b[0;34m,\u001b[0m \u001b[0;34m[\u001b[0m\u001b[0mcolumns\u001b[0m\u001b[0;34m,\u001b[0m \u001b[0mindex\u001b[0m\u001b[0;34m]\u001b[0m\u001b[0;34m)\u001b[0m\u001b[0;34m\u001b[0m\u001b[0;34m\u001b[0m\u001b[0m\n\u001b[0m\u001b[1;32m    235\u001b[0m \u001b[0;34m\u001b[0m\u001b[0m\n\u001b[1;32m    236\u001b[0m \u001b[0;34m\u001b[0m\u001b[0m\n",
            "\u001b[0;32m/usr/local/lib/python3.7/dist-packages/pandas/core/internals/managers.py\u001b[0m in \u001b[0;36mcreate_block_manager_from_blocks\u001b[0;34m(blocks, axes)\u001b[0m\n\u001b[1;32m   1679\u001b[0m         \u001b[0mblocks\u001b[0m \u001b[0;34m=\u001b[0m \u001b[0;34m[\u001b[0m\u001b[0mgetattr\u001b[0m\u001b[0;34m(\u001b[0m\u001b[0mb\u001b[0m\u001b[0;34m,\u001b[0m \u001b[0;34m\"values\"\u001b[0m\u001b[0;34m,\u001b[0m \u001b[0mb\u001b[0m\u001b[0;34m)\u001b[0m \u001b[0;32mfor\u001b[0m \u001b[0mb\u001b[0m \u001b[0;32min\u001b[0m \u001b[0mblocks\u001b[0m\u001b[0;34m]\u001b[0m\u001b[0;34m\u001b[0m\u001b[0;34m\u001b[0m\u001b[0m\n\u001b[1;32m   1680\u001b[0m         \u001b[0mtot_items\u001b[0m \u001b[0;34m=\u001b[0m \u001b[0msum\u001b[0m\u001b[0;34m(\u001b[0m\u001b[0mb\u001b[0m\u001b[0;34m.\u001b[0m\u001b[0mshape\u001b[0m\u001b[0;34m[\u001b[0m\u001b[0;36m0\u001b[0m\u001b[0;34m]\u001b[0m \u001b[0;32mfor\u001b[0m \u001b[0mb\u001b[0m \u001b[0;32min\u001b[0m \u001b[0mblocks\u001b[0m\u001b[0;34m)\u001b[0m\u001b[0;34m\u001b[0m\u001b[0;34m\u001b[0m\u001b[0m\n\u001b[0;32m-> 1681\u001b[0;31m         \u001b[0;32mraise\u001b[0m \u001b[0mconstruction_error\u001b[0m\u001b[0;34m(\u001b[0m\u001b[0mtot_items\u001b[0m\u001b[0;34m,\u001b[0m \u001b[0mblocks\u001b[0m\u001b[0;34m[\u001b[0m\u001b[0;36m0\u001b[0m\u001b[0;34m]\u001b[0m\u001b[0;34m.\u001b[0m\u001b[0mshape\u001b[0m\u001b[0;34m[\u001b[0m\u001b[0;36m1\u001b[0m\u001b[0;34m:\u001b[0m\u001b[0;34m]\u001b[0m\u001b[0;34m,\u001b[0m \u001b[0maxes\u001b[0m\u001b[0;34m,\u001b[0m \u001b[0me\u001b[0m\u001b[0;34m)\u001b[0m\u001b[0;34m\u001b[0m\u001b[0;34m\u001b[0m\u001b[0m\n\u001b[0m\u001b[1;32m   1682\u001b[0m \u001b[0;34m\u001b[0m\u001b[0m\n\u001b[1;32m   1683\u001b[0m \u001b[0;34m\u001b[0m\u001b[0m\n",
            "\u001b[0;31mValueError\u001b[0m: Shape of passed values is (3, 50), indices imply (3, 49)"
          ]
        }
      ]
    },
    {
      "cell_type": "code",
      "metadata": {
        "id": "B-yZDL2NrdH4"
      },
      "source": [
        "conversation(20, \"where are you?\")"
      ],
      "execution_count": null,
      "outputs": []
    },
    {
      "cell_type": "code",
      "metadata": {
        "id": "rWwjSy8XoH3q"
      },
      "source": [
        "def make_question(question, tokenizer):\n",
        "    question = tokenizer.tokenize(question)\n",
        "    q = tokenizer.convert_tokens_to_ids(question)\n",
        "    return torch.LongTensor(q).unsqueeze(0)\n",
        "    \n",
        "def QandA(model, question, gpu, show_Q, tmp=0.9, top_p=0, top_k=40, tokenizer=tokenizer, viz=False):\n",
        "    if show_Q:\n",
        "        print(\"Q : \", question)\n",
        "    question = make_question(question, tokenizer)\n",
        "    sep = torch.LongTensor([tokenizer.sep_token_id]).unsqueeze(0)\n",
        "    cls = torch.LongTensor([tokenizer.cls_token_id]).unsqueeze(0)\n",
        "\n",
        "    if gpu:\n",
        "        model = model.cuda()\n",
        "        question = question.cuda()\n",
        "        sep = sep.cuda()\n",
        "        cls = cls.cuda()\n",
        "    else:\n",
        "        model = model.cpu()\n",
        "    with torch.no_grad():\n",
        "        answ, attention, answ_ids = model.generate2(question, sep, cls, tmp, top_p, top_k)\n",
        "        print(\"A : \", answ)\n",
        "    if len(answ) <= 1:\n",
        "        viz = False\n",
        "    if viz:\n",
        "        visualize_attention(attention, question, answ_ids)\n",
        "    return answ"
      ],
      "execution_count": null,
      "outputs": []
    },
    {
      "cell_type": "code",
      "metadata": {
        "colab": {
          "base_uri": "https://localhost:8080/",
          "height": 304
        },
        "id": "sysHbRgeozOb",
        "outputId": "f2f39344-3069-4281-d442-a4be6e5f4bb5"
      },
      "source": [
        "QandA(model, \"how are you doing?\", gpu, True, 0.9, 0, 40, viz=True)"
      ],
      "execution_count": null,
      "outputs": [
        {
          "output_type": "stream",
          "text": [
            "Q :  how are you doing?\n",
            "A :  i'' m'm about i fine.\n"
          ],
          "name": "stdout"
        },
        {
          "output_type": "error",
          "ename": "NameError",
          "evalue": "ignored",
          "traceback": [
            "\u001b[0;31m---------------------------------------------------------------------------\u001b[0m",
            "\u001b[0;31mNameError\u001b[0m                                 Traceback (most recent call last)",
            "\u001b[0;32m<ipython-input-20-3e602586b383>\u001b[0m in \u001b[0;36m<module>\u001b[0;34m()\u001b[0m\n\u001b[0;32m----> 1\u001b[0;31m \u001b[0mQandA\u001b[0m\u001b[0;34m(\u001b[0m\u001b[0mmodel\u001b[0m\u001b[0;34m,\u001b[0m \u001b[0;34m\"how are you doing?\"\u001b[0m\u001b[0;34m,\u001b[0m \u001b[0mgpu\u001b[0m\u001b[0;34m,\u001b[0m \u001b[0;32mTrue\u001b[0m\u001b[0;34m,\u001b[0m \u001b[0;36m0.9\u001b[0m\u001b[0;34m,\u001b[0m \u001b[0;36m0\u001b[0m\u001b[0;34m,\u001b[0m \u001b[0;36m40\u001b[0m\u001b[0;34m,\u001b[0m \u001b[0mviz\u001b[0m\u001b[0;34m=\u001b[0m\u001b[0;32mTrue\u001b[0m\u001b[0;34m)\u001b[0m\u001b[0;34m\u001b[0m\u001b[0;34m\u001b[0m\u001b[0m\n\u001b[0m",
            "\u001b[0;32m<ipython-input-16-2da5dee38ce3>\u001b[0m in \u001b[0;36mQandA\u001b[0;34m(model, question, gpu, show_Q, tmp, top_p, top_k, tokenizer, viz)\u001b[0m\n\u001b[1;32m     24\u001b[0m         \u001b[0mviz\u001b[0m \u001b[0;34m=\u001b[0m \u001b[0;32mFalse\u001b[0m\u001b[0;34m\u001b[0m\u001b[0;34m\u001b[0m\u001b[0m\n\u001b[1;32m     25\u001b[0m     \u001b[0;32mif\u001b[0m \u001b[0mviz\u001b[0m\u001b[0;34m:\u001b[0m\u001b[0;34m\u001b[0m\u001b[0;34m\u001b[0m\u001b[0m\n\u001b[0;32m---> 26\u001b[0;31m         \u001b[0mvisualize_attention\u001b[0m\u001b[0;34m(\u001b[0m\u001b[0mattention\u001b[0m\u001b[0;34m,\u001b[0m \u001b[0mquestion\u001b[0m\u001b[0;34m,\u001b[0m \u001b[0mansw_ids\u001b[0m\u001b[0;34m)\u001b[0m\u001b[0;34m\u001b[0m\u001b[0;34m\u001b[0m\u001b[0m\n\u001b[0m\u001b[1;32m     27\u001b[0m     \u001b[0;32mreturn\u001b[0m \u001b[0mansw\u001b[0m\u001b[0;34m\u001b[0m\u001b[0;34m\u001b[0m\u001b[0m\n",
            "\u001b[0;31mNameError\u001b[0m: name 'visualize_attention' is not defined"
          ]
        }
      ]
    },
    {
      "cell_type": "code",
      "metadata": {
        "id": "pMiEkPXApIrB"
      },
      "source": [
        ""
      ],
      "execution_count": null,
      "outputs": []
    }
  ]
}