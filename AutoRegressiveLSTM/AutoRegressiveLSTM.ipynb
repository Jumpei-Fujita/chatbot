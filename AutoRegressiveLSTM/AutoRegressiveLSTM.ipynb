{
  "nbformat": 4,
  "nbformat_minor": 0,
  "metadata": {
    "colab": {
      "name": "AutoRegressiveLSTM.ipynb",
      "provenance": [],
      "collapsed_sections": []
    },
    "kernelspec": {
      "name": "python3",
      "display_name": "Python 3"
    },
    "language_info": {
      "name": "python"
    },
    "accelerator": "GPU"
  },
  "cells": [
    {
      "cell_type": "code",
      "metadata": {
        "colab": {
          "base_uri": "https://localhost:8080/"
        },
        "id": "ctEoghYfNVAc",
        "outputId": "27811a78-fc17-4943-b75a-088b79bcbc7c"
      },
      "source": [
        "!pip install pytorch-transformers\n",
        "import pandas as pd\n",
        "\n",
        "train_dataset = pd.read_csv(\"/content/drive/MyDrive/new_exp/chatbot/dataset/train_d.csv\")\n",
        "validation_dataset = pd.read_csv(\"/content/drive/MyDrive/new_exp/chatbot/dataset/validation_d.csv\")\n",
        "test_dataset = pd.read_csv(\"/content/drive/MyDrive/new_exp/chatbot/dataset/test_d.csv\")\n",
        "from pytorch_transformers import BertTokenizer, BertModel\n",
        "tokenizer = BertTokenizer.from_pretrained('bert-base-uncased')\n",
        "import torch\n",
        "import torch.nn as nn\n",
        "import torch.optim as optim\n",
        "import numpy as np\n",
        "import matplotlib.pyplot as plt\n",
        "import torch.nn.functional as F\n",
        "import time\n",
        "\n",
        "%cd /content/drive/MyDrive/new_exp/chatbot/ARLSTM\n",
        "from model import LSTMDecoder\n",
        "from exp import train, test_generation, QandA, get_input"
      ],
      "execution_count": null,
      "outputs": [
        {
          "output_type": "stream",
          "text": [
            "Collecting pytorch-transformers\n",
            "\u001b[?25l  Downloading https://files.pythonhosted.org/packages/a3/b7/d3d18008a67e0b968d1ab93ad444fc05699403fa662f634b2f2c318a508b/pytorch_transformers-1.2.0-py3-none-any.whl (176kB)\n",
            "\u001b[K     |████████████████████████████████| 184kB 14.3MB/s \n",
            "\u001b[?25hCollecting boto3\n",
            "\u001b[?25l  Downloading https://files.pythonhosted.org/packages/30/6d/1c43d87bfff9e7afb5130629dfb7d57617245eeb4a474bf77f45d637c3a6/boto3-1.17.33-py2.py3-none-any.whl (131kB)\n",
            "\u001b[K     |████████████████████████████████| 133kB 29.7MB/s \n",
            "\u001b[?25hRequirement already satisfied: torch>=1.0.0 in /usr/local/lib/python3.7/dist-packages (from pytorch-transformers) (1.8.0+cu101)\n",
            "Collecting sacremoses\n",
            "\u001b[?25l  Downloading https://files.pythonhosted.org/packages/7d/34/09d19aff26edcc8eb2a01bed8e98f13a1537005d31e95233fd48216eed10/sacremoses-0.0.43.tar.gz (883kB)\n",
            "\u001b[K     |████████████████████████████████| 890kB 28.7MB/s \n",
            "\u001b[?25hCollecting sentencepiece\n",
            "\u001b[?25l  Downloading https://files.pythonhosted.org/packages/f5/99/e0808cb947ba10f575839c43e8fafc9cc44e4a7a2c8f79c60db48220a577/sentencepiece-0.1.95-cp37-cp37m-manylinux2014_x86_64.whl (1.2MB)\n",
            "\u001b[K     |████████████████████████████████| 1.2MB 53.7MB/s \n",
            "\u001b[?25hRequirement already satisfied: numpy in /usr/local/lib/python3.7/dist-packages (from pytorch-transformers) (1.19.5)\n",
            "Requirement already satisfied: requests in /usr/local/lib/python3.7/dist-packages (from pytorch-transformers) (2.23.0)\n",
            "Requirement already satisfied: tqdm in /usr/local/lib/python3.7/dist-packages (from pytorch-transformers) (4.41.1)\n",
            "Requirement already satisfied: regex in /usr/local/lib/python3.7/dist-packages (from pytorch-transformers) (2019.12.20)\n",
            "Collecting jmespath<1.0.0,>=0.7.1\n",
            "  Downloading https://files.pythonhosted.org/packages/07/cb/5f001272b6faeb23c1c9e0acc04d48eaaf5c862c17709d20e3469c6e0139/jmespath-0.10.0-py2.py3-none-any.whl\n",
            "Collecting botocore<1.21.0,>=1.20.33\n",
            "\u001b[?25l  Downloading https://files.pythonhosted.org/packages/dd/1c/f922d7fa47cdd6a18c7470252e86f7c4d24e85cb3cdff09486675df3769c/botocore-1.20.33-py2.py3-none-any.whl (7.3MB)\n",
            "\u001b[K     |████████████████████████████████| 7.3MB 54.3MB/s \n",
            "\u001b[?25hCollecting s3transfer<0.4.0,>=0.3.0\n",
            "\u001b[?25l  Downloading https://files.pythonhosted.org/packages/98/14/0b4be62b65c52d6d1c442f24e02d2a9889a73d3c352002e14c70f84a679f/s3transfer-0.3.6-py2.py3-none-any.whl (73kB)\n",
            "\u001b[K     |████████████████████████████████| 81kB 10.2MB/s \n",
            "\u001b[?25hRequirement already satisfied: typing-extensions in /usr/local/lib/python3.7/dist-packages (from torch>=1.0.0->pytorch-transformers) (3.7.4.3)\n",
            "Requirement already satisfied: six in /usr/local/lib/python3.7/dist-packages (from sacremoses->pytorch-transformers) (1.15.0)\n",
            "Requirement already satisfied: click in /usr/local/lib/python3.7/dist-packages (from sacremoses->pytorch-transformers) (7.1.2)\n",
            "Requirement already satisfied: joblib in /usr/local/lib/python3.7/dist-packages (from sacremoses->pytorch-transformers) (1.0.1)\n",
            "Requirement already satisfied: urllib3!=1.25.0,!=1.25.1,<1.26,>=1.21.1 in /usr/local/lib/python3.7/dist-packages (from requests->pytorch-transformers) (1.24.3)\n",
            "Requirement already satisfied: idna<3,>=2.5 in /usr/local/lib/python3.7/dist-packages (from requests->pytorch-transformers) (2.10)\n",
            "Requirement already satisfied: chardet<4,>=3.0.2 in /usr/local/lib/python3.7/dist-packages (from requests->pytorch-transformers) (3.0.4)\n",
            "Requirement already satisfied: certifi>=2017.4.17 in /usr/local/lib/python3.7/dist-packages (from requests->pytorch-transformers) (2020.12.5)\n",
            "Requirement already satisfied: python-dateutil<3.0.0,>=2.1 in /usr/local/lib/python3.7/dist-packages (from botocore<1.21.0,>=1.20.33->boto3->pytorch-transformers) (2.8.1)\n",
            "Building wheels for collected packages: sacremoses\n",
            "  Building wheel for sacremoses (setup.py) ... \u001b[?25l\u001b[?25hdone\n",
            "  Created wheel for sacremoses: filename=sacremoses-0.0.43-cp37-none-any.whl size=893262 sha256=0207626787d91a7fa4a76c9ffa477fda2fa5fbfbcf9c1f29b8f6a0a61fab4dfc\n",
            "  Stored in directory: /root/.cache/pip/wheels/29/3c/fd/7ce5c3f0666dab31a50123635e6fb5e19ceb42ce38d4e58f45\n",
            "Successfully built sacremoses\n",
            "\u001b[31mERROR: botocore 1.20.33 has requirement urllib3<1.27,>=1.25.4, but you'll have urllib3 1.24.3 which is incompatible.\u001b[0m\n",
            "Installing collected packages: jmespath, botocore, s3transfer, boto3, sacremoses, sentencepiece, pytorch-transformers\n",
            "Successfully installed boto3-1.17.33 botocore-1.20.33 jmespath-0.10.0 pytorch-transformers-1.2.0 s3transfer-0.3.6 sacremoses-0.0.43 sentencepiece-0.1.95\n"
          ],
          "name": "stdout"
        },
        {
          "output_type": "stream",
          "text": [
            "100%|██████████| 231508/231508 [00:00<00:00, 894056.35B/s]\n"
          ],
          "name": "stderr"
        },
        {
          "output_type": "stream",
          "text": [
            "/content/drive/MyDrive/new_exp/chatbot/ARLSTM\n"
          ],
          "name": "stdout"
        }
      ]
    },
    {
      "cell_type": "code",
      "metadata": {
        "colab": {
          "base_uri": "https://localhost:8080/"
        },
        "id": "AzdpPb-raLDV",
        "outputId": "166f568d-000e-40ab-beeb-e220011a22df"
      },
      "source": [
        "gpu = True\n",
        "d_model = 512\n",
        "layers_num = 2\n",
        "lr = 0.0001\n",
        "batch_size = 40\n",
        "epochs = 8000\n",
        "show_generate = int(epochs * 0.1)\n",
        "model = LSTMDecoder(d_model=d_model, layers_num=layers_num)\n",
        "model = train(model, gpu, lr, batch_size, epochs, train_dataset, validation_dataset, show_generate, layers_num, d_model, tokenizer=tokenizer)"
      ],
      "execution_count": null,
      "outputs": [
        {
          "output_type": "stream",
          "text": [
            "train_loss :  10.326263427734375\n",
            "validation_loss 10.324752807617188\n",
            "~~~~\n",
            "question :  which one? \n",
            "gold answer :  any one. i need to sharpen this pencil.\n",
            "Generated Answer :   troll angela soil punishments punishments villages良 assignedulla inspections ウ emmett daniels international constitution portfoliolandastabha 千 plainsctionlington 170 kaplan function undergo12 squash goblin locomotivessta outstretched cecilbine health affiliate supposedly danzig rye textileア giantsonal caldernov relativity bombardment overlap knows\n",
            "~~~~\n",
            "elapsed time :  0.42760443687438965\n",
            "=============================================================\n",
            "train_loss :  4.089907169342041\n",
            "validation_loss 4.2338948249816895\n",
            "~~~~\n",
            "question :  i want to be a mail carrier when i grow up. \n",
            "gold answer :  why?\n",
            "Generated Answer :   so\n",
            "~~~~\n",
            "elapsed time :  248.5233223438263\n",
            "=============================================================\n",
            "train_loss :  3.1693203449249268\n",
            "validation_loss 3.3026366233825684\n",
            "~~~~\n",
            "question :  i think i'll buy both of them. \n",
            "gold answer :  you'd better try them on first.\n",
            "Generated Answer :   it's a good.\n",
            "~~~~\n",
            "elapsed time :  497.85638880729675\n",
            "=============================================================\n",
            "train_loss :  2.580488681793213\n",
            "validation_loss 2.615537405014038\n",
            "~~~~\n",
            "question :  no. they said there are some things you can't explain. \n",
            "gold answer :  so are they going to hold another election?\n",
            "Generated Answer :   i'll been a ticket.\n",
            "~~~~\n",
            "elapsed time :  747.5161275863647\n",
            "=============================================================\n",
            "train_loss :  2.023618698120117\n",
            "validation_loss 2.1578609943389893\n",
            "~~~~\n",
            "question :  the police need to shoot all the bears. \n",
            "gold answer :  you don't solve a problem by shooting it.\n",
            "Generated Answer :   i saw it dirty.\n",
            "~~~~\n",
            "elapsed time :  997.2210052013397\n",
            "=============================================================\n",
            "train_loss :  1.563421368598938\n",
            "validation_loss 1.4384098052978516\n",
            "~~~~\n",
            "question :  no, i figure i'll finish it all by next week. \n",
            "gold answer :  then you can start losing weight, if there isn't another sale.\n",
            "Generated Answer :   do you think that?\n",
            "~~~~\n",
            "elapsed time :  1246.9301211833954\n",
            "=============================================================\n",
            "train_loss :  0.9948650598526001\n",
            "validation_loss 0.9796687960624695\n",
            "~~~~\n",
            "question :  to the state or the city? \n",
            "gold answer :  to the city, of course.\n",
            "Generated Answer :   yes, old accidents.\n",
            "~~~~\n",
            "elapsed time :  1494.8010680675507\n",
            "=============================================================\n",
            "train_loss :  0.6920005679130554\n",
            "validation_loss 0.7140190005302429\n",
            "~~~~\n",
            "question :  only 11 percent? \n",
            "gold answer :  about 50 percent of the time he's traveling.\n",
            "Generated Answer :   we can borrow two jokes.\n",
            "~~~~\n",
            "elapsed time :  1742.48037981987\n",
            "=============================================================\n",
            "train_loss :  0.5226492285728455\n",
            "validation_loss 0.4733530879020691\n",
            "~~~~\n",
            "question :  who ever heard of such a thing? \n",
            "gold answer :  oh, look. here's the little sticker that was on it. it's called a pink navel.\n",
            "Generated Answer :   that's a good price.\n",
            "~~~~\n",
            "elapsed time :  1989.6209700107574\n",
            "=============================================================\n",
            "train_loss :  0.46082860231399536\n",
            "validation_loss 0.4284164607524872\n",
            "~~~~\n",
            "question :  a hospital is the most dangerous place in the world. \n",
            "gold answer :  oh, yes, because of all the killer germs.\n",
            "Generated Answer :   you never have blue party nexts.\n",
            "~~~~\n",
            "elapsed time :  2238.450115442276\n",
            "=============================================================\n",
            "training finished\n"
          ],
          "name": "stdout"
        },
        {
          "output_type": "display_data",
          "data": {
            "image/png": "[encoded data removed]",
            "text/plain": [
              "<Figure size 432x288 with 1 Axes>"
            ]
          },
          "metadata": {
            "tags": [],
            "needs_background": "light"
          }
        }
      ]
    },
    {
      "cell_type": "code",
      "metadata": {
        "id": "TrpRX_Qrk_H5",
        "colab": {
          "base_uri": "https://localhost:8080/"
        },
        "outputId": "587ccdd6-c612-4f1a-8c0d-05a9cf20daea"
      },
      "source": [
        "for i in range(10):\n",
        "    test_generation(model, test_dataset, i, layers_num, d_model, tokenizer, gpu)"
      ],
      "execution_count": null,
      "outputs": [
        {
          "output_type": "stream",
          "text": [
            "~~~~\n",
            "question :  i like the one where the fireman tells us why we should vote yes. \n",
            "gold answer :  don't believe him! whatever the tv ads tell you, the opposite is true.\n",
            "Generated Answer :   we'll go in an 10.\n",
            "~~~~\n",
            "~~~~\n",
            "question :  don't believe him! whatever the tv ads tell you, the opposite is true. \n",
            "gold answer :  but the title of measure 1 is \"better schools at no cost.\"\n",
            "Generated Answer :   it's on in california.\n",
            "~~~~\n",
            "~~~~\n",
            "question :  but the title of measure 1 is \" better schools at no cost. \" \n",
            "gold answer :  the title should be \"better schools at huge cost.\"\n",
            "Generated Answer :   is it it?\n",
            "~~~~\n",
            "~~~~\n",
            "question :  the title should be \" better schools at huge cost. \" \n",
            "gold answer :  i can't believe that they would lie to us.\n",
            "Generated Answer :   okay, okay. i'll send it one hours.\n",
            "~~~~\n",
            "~~~~\n",
            "question :  i can't believe that they would lie to us. \n",
            "gold answer :  of course they liethat's what politicians do!\n",
            "Generated Answer :   let's go out something?\n",
            "~~~~\n",
            "~~~~\n",
            "question :  i have a stomachache. \n",
            "gold answer :  is it something you ate?\n",
            "Generated Answer :   how come?\n",
            "~~~~\n",
            "~~~~\n",
            "question :  is it something you ate? \n",
            "gold answer :  maybe. i'm not sure.\n",
            "Generated Answer :   it's okay.\n",
            "~~~~\n",
            "~~~~\n",
            "question :  maybe. i'm not sure. \n",
            "gold answer :  what did you have for breakfast?\n",
            "Generated Answer :   well, she did?\n",
            "~~~~\n",
            "~~~~\n",
            "question :  what did you have for breakfast? \n",
            "gold answer :  the usual, cereal with milk and a banana.\n",
            "Generated Answer :   i was sick.\n",
            "~~~~\n",
            "~~~~\n",
            "question :  the usual, cereal with milk and a banana. \n",
            "gold answer :  maybe the milk was bad.\n",
            "Generated Answer :   i gave her about $ 120 for a 13 - percent.\n",
            "~~~~\n"
          ],
          "name": "stdout"
        }
      ]
    },
    {
      "cell_type": "code",
      "metadata": {
        "id": "gBnSsCj9gBQZ",
        "colab": {
          "base_uri": "https://localhost:8080/"
        },
        "outputId": "da5bae41-b88c-40c3-955a-f3b8fa55d3be"
      },
      "source": [
        "QandA(model, \"hello?\", gpu, True, tokenizer, train_dataset, layers_num, d_model)"
      ],
      "execution_count": null,
      "outputs": [
        {
          "output_type": "stream",
          "text": [
            "Q :  hello?\n",
            "A :   yes, just care and college it's cold.\n"
          ],
          "name": "stdout"
        },
        {
          "output_type": "execute_result",
          "data": {
            "application/vnd.google.colaboratory.intrinsic+json": {
              "type": "string"
            },
            "text/plain": [
              "\" yes, just care and college it's cold.\""
            ]
          },
          "metadata": {
            "tags": []
          },
          "execution_count": 13
        }
      ]
    },
    {
      "cell_type": "code",
      "metadata": {
        "id": "bF6ANK8IgPPT"
      },
      "source": [
        "def ans(question):\n",
        "    a = QandA(model, \"hello?\", gpu, True, tokenizer, train_dataset, layers_num, d_model)"
      ],
      "execution_count": null,
      "outputs": []
    },
    {
      "cell_type": "code",
      "metadata": {
        "id": "_10G37RPgcuX",
        "colab": {
          "base_uri": "https://localhost:8080/"
        },
        "outputId": "9a7b3baf-8fe9-4e8d-bb37-c362e8e4cd30"
      },
      "source": [
        "ans(\"how are you?\")"
      ],
      "execution_count": null,
      "outputs": [
        {
          "output_type": "stream",
          "text": [
            "Q :  hello?\n",
            "A :   yes, have you, the cat is me.\n"
          ],
          "name": "stdout"
        }
      ]
    },
    {
      "cell_type": "code",
      "metadata": {
        "id": "HMASoDXBgI-U"
      },
      "source": [
        "def conversation(num, first_question):\n",
        "    a = QandA(model, first_question, gpu, True, tokenizer, train_dataset, layers_num, d_model)\n",
        "    for i in range(num):\n",
        "        if len(a) == 0:\n",
        "            a = \"?\"\n",
        "        a = QandA(model, a, gpu, False, tokenizer, train_dataset, layers_num, d_model)"
      ],
      "execution_count": null,
      "outputs": []
    },
    {
      "cell_type": "code",
      "metadata": {
        "id": "-0xJx63vhn2o",
        "colab": {
          "base_uri": "https://localhost:8080/"
        },
        "outputId": "b6175908-e523-452c-b52b-2634a5ee1289"
      },
      "source": [
        "conversation(10, \"how are you?\")"
      ],
      "execution_count": null,
      "outputs": [
        {
          "output_type": "stream",
          "text": [
            "Q :  how are you?\n",
            "A :   i'm so happy for you.\n",
            "A :   really?\n",
            "A :   his nails were black!\n",
            "A :   that's disgusting.\n",
            "A :   and he poured water into the glasses.\n",
            "A :   no,\n",
            "A :   i was looking on something else.\n",
            "A :   with\n",
            "A :   what?\n",
            "A :   i know.\n",
            "A :   when did you learn all?\n"
          ],
          "name": "stdout"
        }
      ]
    },
    {
      "cell_type": "code",
      "metadata": {
        "id": "cu60fr_MhKME"
      },
      "source": [
        "def first_generation(question, gpu, layers_num=layers_num, d_model=d_model):\n",
        "    question = torch.LongTensor([tokenizer.convert_tokens_to_ids(question)]).view(1, -1)\n",
        "    if gpu:\n",
        "        question = question.cuda()\n",
        "    _, sep, cls, _, h, c = get_input(train_dataset, 0, gpu, layers_num, d_model, generate=True)\n",
        "    return model.generate(question, h, c, sep, cls)"
      ],
      "execution_count": null,
      "outputs": []
    },
    {
      "cell_type": "code",
      "metadata": {
        "id": "J3ni3ehjjQtT",
        "colab": {
          "base_uri": "https://localhost:8080/"
        },
        "outputId": "056b0252-d723-494b-eed6-1837aa6e355c"
      },
      "source": [
        "first_generation(\"how are you\", gpu)"
      ],
      "execution_count": null,
      "outputs": [
        {
          "output_type": "execute_result",
          "data": {
            "application/vnd.google.colaboratory.intrinsic+json": {
              "type": "string"
            },
            "text/plain": [
              "'[UNK] about 90 of veterans.'"
            ]
          },
          "metadata": {
            "tags": []
          },
          "execution_count": 19
        }
      ]
    },
    {
      "cell_type": "code",
      "metadata": {
        "id": "0RX9SCRmjXJH"
      },
      "source": [
        ""
      ],
      "execution_count": null,
      "outputs": []
    }
  ]
}